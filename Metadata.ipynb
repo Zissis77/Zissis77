{
 "cells": [
  {
   "cell_type": "code",
   "execution_count": 1,
   "id": "a8c331a0",
   "metadata": {},
   "outputs": [
    {
     "name": "stdout",
     "output_type": "stream",
     "text": [
      "Metadata Project\n"
     ]
    }
   ],
   "source": [
    "print(\"Metadata Project\")"
   ]
  },
  {
   "cell_type": "code",
   "execution_count": 2,
   "id": "39f48991",
   "metadata": {
    "scrolled": true
   },
   "outputs": [
    {
     "data": {
      "text/html": [
       "<div>\n",
       "<style scoped>\n",
       "    .dataframe tbody tr th:only-of-type {\n",
       "        vertical-align: middle;\n",
       "    }\n",
       "\n",
       "    .dataframe tbody tr th {\n",
       "        vertical-align: top;\n",
       "    }\n",
       "\n",
       "    .dataframe thead th {\n",
       "        text-align: right;\n",
       "    }\n",
       "</style>\n",
       "<table border=\"1\" class=\"dataframe\">\n",
       "  <thead>\n",
       "    <tr style=\"text-align: right;\">\n",
       "      <th></th>\n",
       "      <th>Modality</th>\n",
       "      <th>Manufacturer</th>\n",
       "      <th>PhotometricInterpretation</th>\n",
       "      <th>BrixiaScore</th>\n",
       "      <th>BrixiaScoreGlobal</th>\n",
       "      <th>ConsensusTestset</th>\n",
       "      <th>Sex</th>\n",
       "      <th>AgeAtStudyDateFiveYear</th>\n",
       "    </tr>\n",
       "  </thead>\n",
       "  <tbody>\n",
       "    <tr>\n",
       "      <th>0</th>\n",
       "      <td>CR</td>\n",
       "      <td>SIEMENS</td>\n",
       "      <td>MONOCHROME2</td>\n",
       "      <td>1</td>\n",
       "      <td>1</td>\n",
       "      <td>1</td>\n",
       "      <td>M</td>\n",
       "      <td>11</td>\n",
       "    </tr>\n",
       "    <tr>\n",
       "      <th>1</th>\n",
       "      <td>CR</td>\n",
       "      <td>Agfa</td>\n",
       "      <td>MONOCHROME1</td>\n",
       "      <td>2</td>\n",
       "      <td>2</td>\n",
       "      <td>1</td>\n",
       "      <td>M</td>\n",
       "      <td>8</td>\n",
       "    </tr>\n",
       "    <tr>\n",
       "      <th>2</th>\n",
       "      <td>CR</td>\n",
       "      <td>SIEMENS</td>\n",
       "      <td>MONOCHROME2</td>\n",
       "      <td>10</td>\n",
       "      <td>1</td>\n",
       "      <td>1</td>\n",
       "      <td>M</td>\n",
       "      <td>11</td>\n",
       "    </tr>\n",
       "    <tr>\n",
       "      <th>3</th>\n",
       "      <td>DX</td>\n",
       "      <td>CARESTREAM HEALTH</td>\n",
       "      <td>MONOCHROME1</td>\n",
       "      <td>21</td>\n",
       "      <td>3</td>\n",
       "      <td>1</td>\n",
       "      <td>M</td>\n",
       "      <td>12</td>\n",
       "    </tr>\n",
       "    <tr>\n",
       "      <th>4</th>\n",
       "      <td>DX</td>\n",
       "      <td>CARESTREAM HEALTH</td>\n",
       "      <td>MONOCHROME1</td>\n",
       "      <td>1001</td>\n",
       "      <td>2</td>\n",
       "      <td>1</td>\n",
       "      <td>M</td>\n",
       "      <td>8</td>\n",
       "    </tr>\n",
       "    <tr>\n",
       "      <th>...</th>\n",
       "      <td>...</td>\n",
       "      <td>...</td>\n",
       "      <td>...</td>\n",
       "      <td>...</td>\n",
       "      <td>...</td>\n",
       "      <td>...</td>\n",
       "      <td>...</td>\n",
       "      <td>...</td>\n",
       "    </tr>\n",
       "    <tr>\n",
       "      <th>4690</th>\n",
       "      <td>CR</td>\n",
       "      <td>SIEMENS</td>\n",
       "      <td>MONOCHROME2</td>\n",
       "      <td>1</td>\n",
       "      <td>1</td>\n",
       "      <td>0</td>\n",
       "      <td>M</td>\n",
       "      <td>10</td>\n",
       "    </tr>\n",
       "    <tr>\n",
       "      <th>4691</th>\n",
       "      <td>DX</td>\n",
       "      <td>CARESTREAM HEALTH</td>\n",
       "      <td>MONOCHROME1</td>\n",
       "      <td>122023</td>\n",
       "      <td>10</td>\n",
       "      <td>0</td>\n",
       "      <td>M</td>\n",
       "      <td>10</td>\n",
       "    </tr>\n",
       "    <tr>\n",
       "      <th>4692</th>\n",
       "      <td>CR</td>\n",
       "      <td>SIEMENS</td>\n",
       "      <td>MONOCHROME2</td>\n",
       "      <td>233133</td>\n",
       "      <td>15</td>\n",
       "      <td>0</td>\n",
       "      <td>M</td>\n",
       "      <td>14</td>\n",
       "    </tr>\n",
       "    <tr>\n",
       "      <th>4693</th>\n",
       "      <td>DX</td>\n",
       "      <td>CARESTREAM HEALTH</td>\n",
       "      <td>MONOCHROME1</td>\n",
       "      <td>333133</td>\n",
       "      <td>16</td>\n",
       "      <td>0</td>\n",
       "      <td>M</td>\n",
       "      <td>14</td>\n",
       "    </tr>\n",
       "    <tr>\n",
       "      <th>4694</th>\n",
       "      <td>DX</td>\n",
       "      <td>CARESTREAM HEALTH</td>\n",
       "      <td>MONOCHROME1</td>\n",
       "      <td>333133</td>\n",
       "      <td>16</td>\n",
       "      <td>0</td>\n",
       "      <td>M</td>\n",
       "      <td>14</td>\n",
       "    </tr>\n",
       "  </tbody>\n",
       "</table>\n",
       "<p>4695 rows × 8 columns</p>\n",
       "</div>"
      ],
      "text/plain": [
       "     Modality       Manufacturer PhotometricInterpretation  BrixiaScore  \\\n",
       "0          CR            SIEMENS               MONOCHROME2            1   \n",
       "1          CR               Agfa               MONOCHROME1            2   \n",
       "2          CR            SIEMENS               MONOCHROME2           10   \n",
       "3          DX  CARESTREAM HEALTH               MONOCHROME1           21   \n",
       "4          DX  CARESTREAM HEALTH               MONOCHROME1         1001   \n",
       "...       ...                ...                       ...          ...   \n",
       "4690       CR            SIEMENS               MONOCHROME2            1   \n",
       "4691       DX  CARESTREAM HEALTH               MONOCHROME1       122023   \n",
       "4692       CR            SIEMENS               MONOCHROME2       233133   \n",
       "4693       DX  CARESTREAM HEALTH               MONOCHROME1       333133   \n",
       "4694       DX  CARESTREAM HEALTH               MONOCHROME1       333133   \n",
       "\n",
       "      BrixiaScoreGlobal  ConsensusTestset Sex  AgeAtStudyDateFiveYear  \n",
       "0                     1                 1   M                      11  \n",
       "1                     2                 1   M                       8  \n",
       "2                     1                 1   M                      11  \n",
       "3                     3                 1   M                      12  \n",
       "4                     2                 1   M                       8  \n",
       "...                 ...               ...  ..                     ...  \n",
       "4690                  1                 0   M                      10  \n",
       "4691                 10                 0   M                      10  \n",
       "4692                 15                 0   M                      14  \n",
       "4693                 16                 0   M                      14  \n",
       "4694                 16                 0   M                      14  \n",
       "\n",
       "[4695 rows x 8 columns]"
      ]
     },
     "execution_count": 2,
     "metadata": {},
     "output_type": "execute_result"
    }
   ],
   "source": [
    "import pandas as pd\n",
    "filename = r'C:\\Users\\zissis\\Downloads\\metadata.csv'\n",
    "Df = pd.read_csv(filename,sep=';') \n",
    "Df = Df.drop(columns=['Filename','StudyDate','Subject','StudyId','Columns','Rows'])\n",
    "Df.dropna()"
   ]
  },
  {
   "cell_type": "code",
   "execution_count": 3,
   "id": "d1a12a7d",
   "metadata": {},
   "outputs": [
    {
     "name": "stdout",
     "output_type": "stream",
     "text": [
      "     Modality       Manufacturer PhotometricInterpretation  BrixiaScore  \\\n",
      "4685       CR            SIEMENS               MONOCHROME2       333333   \n",
      "4686       CR            SIEMENS               MONOCHROME2       333333   \n",
      "4687       CR            SIEMENS               MONOCHROME2       333333   \n",
      "4688       CR            SIEMENS               MONOCHROME2       333333   \n",
      "4689       CR            SIEMENS               MONOCHROME2       333333   \n",
      "4690       CR            SIEMENS               MONOCHROME2            1   \n",
      "4691       DX  CARESTREAM HEALTH               MONOCHROME1       122023   \n",
      "4692       CR            SIEMENS               MONOCHROME2       233133   \n",
      "4693       DX  CARESTREAM HEALTH               MONOCHROME1       333133   \n",
      "4694       DX  CARESTREAM HEALTH               MONOCHROME1       333133   \n",
      "\n",
      "      BrixiaScoreGlobal  ConsensusTestset Sex  AgeAtStudyDateFiveYear  \n",
      "4685                 18                 0   F                      15  \n",
      "4686                 18                 0   F                      16  \n",
      "4687                 18                 0   F                      11  \n",
      "4688                 18                 0   F                      16  \n",
      "4689                 18                 0   F                      14  \n",
      "4690                  1                 0   M                      10  \n",
      "4691                 10                 0   M                      10  \n",
      "4692                 15                 0   M                      14  \n",
      "4693                 16                 0   M                      14  \n",
      "4694                 16                 0   M                      14  \n"
     ]
    }
   ],
   "source": [
    "print(Df.tail(10))"
   ]
  },
  {
   "cell_type": "code",
   "execution_count": 4,
   "id": "cd2a6a89",
   "metadata": {},
   "outputs": [],
   "source": [
    "Df_train = Df.sample(frac = 0.7, random_state=0)\n",
    "Df_valid = Df.drop(Df_train.index)\n",
    "X_train = Df_train.drop(columns='BrixiaScoreGlobal')\n",
    "X_valid = Df_valid.drop(columns='BrixiaScoreGlobal')\n",
    "Y_train = Df_train['BrixiaScoreGlobal']\n",
    "Y_valid = Df_valid['BrixiaScoreGlobal']"
   ]
  },
  {
   "cell_type": "code",
   "execution_count": 5,
   "id": "1ee580a2",
   "metadata": {},
   "outputs": [
    {
     "name": "stdout",
     "output_type": "stream",
     "text": [
      "[18]\n"
     ]
    }
   ],
   "source": [
    "import tensorflow as tf\n",
    "from tensorflow import keras\n",
    "from tensorflow.keras import layers\n",
    "import matplotlib.pyplot as plt\n",
    "from tensorflow.keras import callbacks\n",
    "import numpy as np\n",
    "from sklearn.preprocessing import StandardScaler, OneHotEncoder\n",
    "from sklearn.compose import make_column_transformer\n",
    "from sklearn.model_selection import GroupShuffleSplit\n",
    "features_num = ['BrixiaScore','ConsensusTestset','AgeAtStudyDateFiveYear']\n",
    "features_cat = ['Sex','Manufacturer','Modality','PhotometricInterpretation']\n",
    "preprocessor = make_column_transformer(\n",
    "    (StandardScaler(), features_num),\n",
    "    (OneHotEncoder(), features_cat),\n",
    ")\n",
    "X_train = preprocessor.fit_transform(X_train)\n",
    "X_valid = preprocessor.transform(X_valid)\n",
    "Y_train = tf.convert_to_tensor(Y_train)\n",
    "Y_valid = tf.convert_to_tensor(Y_valid)\n",
    "input_shape = [X_train.shape[1]]\n",
    "print(input_shape)\n"
   ]
  },
  {
   "cell_type": "code",
   "execution_count": 6,
   "id": "696cbe68",
   "metadata": {},
   "outputs": [
    {
     "name": "stdout",
     "output_type": "stream",
     "text": [
      "Minimum Validation Loss: 2.10516906\n"
     ]
    },
    {
     "data": {
      "image/png": "[encoded data removed]",
      "text/plain": [
       "<Figure size 432x288 with 1 Axes>"
      ]
     },
     "metadata": {
      "needs_background": "light"
     },
     "output_type": "display_data"
    }
   ],
   "source": [
    "model = keras.Sequential([\n",
    "    layers.BatchNormalization(),\n",
    "    layers.Dense(128, activation='relu', input_shape=input_shape),\n",
    "    layers.BatchNormalization(),\n",
    "    layers.Dense(128, activation='relu'),\n",
    "    layers.BatchNormalization(),\n",
    "    layers.Dense(128, activation='selu'),\n",
    "    layers.BatchNormalization(),\n",
    "    layers.Dense(1)\n",
    "])\n",
    "\n",
    "stop = callbacks.EarlyStopping(\n",
    "    min_delta=0.001, # minimium amount of change to count as an improvement\n",
    "    patience=5, \n",
    "    restore_best_weights=True,\n",
    ")\n",
    "\n",
    "model.compile(\n",
    "    optimizer='adam',\n",
    "    loss='mae',\n",
    ")\n",
    "final = model.fit(\n",
    "    X_train, Y_train,\n",
    "    validation_data=(X_valid, Y_valid),\n",
    "    batch_size=128,\n",
    "    epochs=600,\n",
    "    verbose=0,\n",
    "    callbacks=[stop]\n",
    "    \n",
    ")\n",
    "final_df = pd.DataFrame(final.history)\n",
    "final_df.loc[0:, ['loss', 'val_loss']].plot()\n",
    "print(\"Minimum Validation Loss: {:0.8f}\".format(final_df['val_loss'].min()));"
   ]
  },
  {
   "cell_type": "code",
   "execution_count": null,
   "id": "22b0a3df",
   "metadata": {},
   "outputs": [],
   "source": []
  }
 ],
 "metadata": {
  "kernelspec": {
   "display_name": "Python 3 (ipykernel)",
   "language": "python",
   "name": "python3"
  },
  "language_info": {
   "codemirror_mode": {
    "name": "ipython",
    "version": 3
   },
   "file_extension": ".py",
   "mimetype": "text/x-python",
   "name": "python",
   "nbconvert_exporter": "python",
   "pygments_lexer": "ipython3",
   "version": "3.9.12"
  }
 },
 "nbformat": 4,
 "nbformat_minor": 5
}
